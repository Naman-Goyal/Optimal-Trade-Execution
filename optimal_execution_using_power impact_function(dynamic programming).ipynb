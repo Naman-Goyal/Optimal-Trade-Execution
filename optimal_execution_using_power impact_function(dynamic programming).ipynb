{
 "cells": [
  {
   "cell_type": "markdown",
   "metadata": {},
   "source": [
    "IEOR 4500 HW 3 due October 9\n",
    "Implement the optimal execution algorithm discussed in class, in Python.  \n",
    "Use the power impact function, where for parameters alpha > 0 and pi > 0, \n",
    "when you sell k shares the price (per share) is first reduced by a factor \n",
    "of 1 - alpha k^pi\n",
    "Your algorithm should take as input the values alpha, pi, N (number of \n",
    "shares to sell) and T (number of periods available).\n",
    "Reasonable values for alpha are small, like 1e-3 or 1e-4, and for pi you \n",
    "should be able to use any number, but think about 0.5 as a good candidate.\n",
    "You should eventually be able to run the program using N = 10^4 and T = \n",
    "20, but for debugging purposes you should start with much smaller values \n",
    "for both N and T.\n",
    "Try to make your program run as FAST as possible!  Any language is allowed \n",
    "so long as it is Python with or without numpy."
   ]
  },
  {
   "cell_type": "code",
   "execution_count": 6,
   "metadata": {},
   "outputs": [],
   "source": [
    "import pandas as pd\n",
    "import numpy as np\n",
    "import matplotlib.pyplot as plt\n",
    "import os\n",
    "import time\n",
    "import random\n",
    "%matplotlib inline\n",
    "\n",
    "T = 3#Maturity and trading schedule\n",
    "N = 15#Number of shares to sell\n",
    "alpha = 0.0001\n",
    "pi = 0.5\n",
    "\n",
    "def impact(k):\n",
    "    return 1-alpha*(k**pi)#This function compute the market impact when we announce we are going to sell k shares.\n"
   ]
  },
  {
   "cell_type": "markdown",
   "metadata": {},
   "source": [
    "## Step 2: Optimal execution algorithm\n",
    "This function is the key component. At time T, we know we must sell all the remaining shares we have to sell. So if we have k shares to sell at time T we will get $k*impact(k)$ in cash. Then going backward in time we compute what is the optimal strategy to sell k shares between $(t,T)$ for all $k \\in [0,N]$.\n",
    "\n",
    "Once we have performed T steps backwards, we look at the optimal path that gives us the best price and how much we can get out of selling those shares. \n",
    "\n",
    "In the code, we use memoization to speed up a bit the computation. The revenue is stock in the variable Mem, the different optimal paths (before we can determine which one it is exactly) are stocked in Path.\n",
    "\n",
    "Inputs:\n",
    "\n",
    "1. t is the stopping time of the algorithm (remember we are going backward in time)\n",
    "2. k is the number of remaining shares to sell.\n",
    "3. Mem is a (T+1)*(N+1) numpy array of -1. Mem[t,k] will correspond to how much cash we can generate by selling k shares between t and T.\n",
    "4. Path is a (T+1) nupy array of 0 where will store the optimal path.\n",
    "5. T is the number of trading days (or the number of discreet points at which we can execute trades)\n",
    "6. N is the number of shares we want to sell"
   ]
  },
  {
   "cell_type": "code",
   "execution_count": 7,
   "metadata": {},
   "outputs": [],
   "source": [
    "def optimal_execution(t,k,Rev,T,N):\n",
    "    if (Rev[t,k] != -1):\n",
    "        return (Rev[t,k],Rev)\n",
    "    if (t == T):\n",
    "        Rev[T,k] = impact(k)*k\n",
    "        return (Rev[T,k],Rev,k)\n",
    "    else:\n",
    "        R_max = 0\n",
    "        i_max = 0\n",
    "        for i in range(k+1):\n",
    "            val = impact(i)*i + impact(i)*optimal_execution(t+1,k-i,Rev,T,N)[0]#[0] to get first component of values returned by function\n",
    "            if(R_max<=val):\n",
    "                R_max = val\n",
    "                i_max = i\n",
    "        Rev[t,k] = R_max\n",
    "        return (R_max,Rev,i_max)\n"
   ]
  },
  {
   "cell_type": "markdown",
   "metadata": {},
   "source": [
    "Step 3: Running the algo to get the optimal execution\n",
    "The first step is to initialize the numpy array of 0 the variables that will contain the cost and the path at each iteration.\n",
    "Inputs:\n",
    "    T is the number of trading days (or the number of discreet points at which we can execute trades)\n",
    "    N is the number of shares we want to sell\n",
    "    impact is the price impact fucntion"
   ]
  },
  {
   "cell_type": "code",
   "execution_count": 8,
   "metadata": {},
   "outputs": [
    {
     "name": "stdout",
     "output_type": "stream",
     "text": [
      "The implicit cost factor is 0.9996205954903147 ..\n",
      "The number of shares to sell at t=0 is: 13\n",
      "The algo took 0.0 secondes to run...\n"
     ]
    }
   ],
   "source": [
    "def initalize(T,N,impact):\n",
    "    Rev = -1*np.ones((T+1,N+1))\n",
    "    return Rev\n",
    "Rev = initalize(T,N,impact)\n",
    "t0 = time.time()\n",
    "\n",
    "Ret = optimal_execution(0,N,Rev,T,N)\n",
    "print(\"The implicit cost factor is %s ..\" % str(Ret[0]/N))\n",
    "print(\"The number of shares to sell at t=0 is: \"+str(Ret[2]))\n",
    "t1 = time.time()\n",
    "\n",
    "print(\"The algo took %s secondes to run...\" % str(t1-t0))"
   ]
  },
  {
   "cell_type": "code",
   "execution_count": 9,
   "metadata": {},
   "outputs": [],
   "source": [
    "# #naive approach\n",
    "# import numpy as np\n",
    "# test_a = .0001   \n",
    "# test_N = 10000\n",
    "# test_pi = .5\n",
    "# test_T = 20\n",
    "\n",
    "# def optimal_trade(a,N,pi,T):\n",
    "#     R = {}    #Dictionary holds the revenue that we get from situation with t time periods left and k assets left\n",
    "#     V = {}    #Dictionary holds the optimal number of assets we would sell at current time period when we have t time periods left and k assets left\n",
    "    \n",
    "#     for k in range(N+1):\n",
    "#         R[(T,k)] = (1-(a*(k**pi)))*k  #Calculating values for final time period\n",
    "        \n",
    "#     for t in range(T,0,-1):  #Looping backwards starting at the end, this is the key to dynamic programming\n",
    "#         for k in range(N+1):  #Looping through all possible numbers of assets we could have left\n",
    "#             #print(R[(t,k)])\n",
    "\n",
    "#             R[(t,k)] = 0      #Start at 0 and continuously improve the optimal value we can get\n",
    "\n",
    "#             for x in range(k+1):\n",
    "#                 func = (1-(a*(x**pi)))  #Price impact function\n",
    "                \n",
    "#                 if t < T:\n",
    "#                     value = func*x + func*R[(t+1,k-x)]\n",
    "#                 else:\n",
    "#                     value = func*x   #If we are at the last time period, we just sell all the assets \n",
    "                \n",
    "#                 if value > R[(t,k)]:   #If we can improve we we update our two dictionaries\n",
    "#                     R[(t,k)] = value  \n",
    "#                     V[(t,k)] = x\n",
    "\n",
    "\n",
    "#     n = N \n",
    "#     t = 1\n",
    "#     while n > 0:           #This while loop allows us to unwind the dynamic program to find what selling plan we should take \n",
    "#         x = V[(t,n)]\n",
    "#         print('At time:', t, '  Sell:',x)\n",
    "#         n = n-x\n",
    "#         t=t+1\n",
    "#     return R[(1,N)]\n",
    "        \n",
    "# R=optimal_trade(test_a,test_N,test_pi,test_T)\n",
    "# R"
   ]
  },
  {
   "cell_type": "code",
   "execution_count": null,
   "metadata": {},
   "outputs": [],
   "source": []
  }
 ],
 "metadata": {
  "kernelspec": {
   "display_name": "Python 3",
   "language": "python",
   "name": "python3"
  },
  "language_info": {
   "codemirror_mode": {
    "name": "ipython",
    "version": 3
   },
   "file_extension": ".py",
   "mimetype": "text/x-python",
   "name": "python",
   "nbconvert_exporter": "python",
   "pygments_lexer": "ipython3",
   "version": "3.6.6"
  }
 },
 "nbformat": 4,
 "nbformat_minor": 2
}
